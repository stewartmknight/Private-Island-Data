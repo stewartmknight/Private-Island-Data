{
 "cells": [
  {
   "cell_type": "code",
   "execution_count": 56,
   "metadata": {},
   "outputs": [],
   "source": [
    "#import dependencies\n",
    "import pandas as pd\n",
    "import matplotlib.pyplot as plt\n",
    "from pprint import pprint\n",
    "import numpy as np\n",
    "from scipy import stats"
   ]
  },
  {
   "cell_type": "code",
   "execution_count": 57,
   "metadata": {},
   "outputs": [
    {
     "data": {
      "text/html": [
       "<div>\n",
       "<style scoped>\n",
       "    .dataframe tbody tr th:only-of-type {\n",
       "        vertical-align: middle;\n",
       "    }\n",
       "\n",
       "    .dataframe tbody tr th {\n",
       "        vertical-align: top;\n",
       "    }\n",
       "\n",
       "    .dataframe thead th {\n",
       "        text-align: right;\n",
       "    }\n",
       "</style>\n",
       "<table border=\"1\" class=\"dataframe\">\n",
       "  <thead>\n",
       "    <tr style=\"text-align: right;\">\n",
       "      <th></th>\n",
       "      <th>School Name</th>\n",
       "      <th>School ID</th>\n",
       "      <th>School Type</th>\n",
       "      <th>School Size</th>\n",
       "      <th>10 Year Median Earnings</th>\n",
       "      <th>10 Year Mean Earnings</th>\n",
       "      <th>Lat</th>\n",
       "      <th>Lng</th>\n",
       "      <th>City</th>\n",
       "      <th>State</th>\n",
       "      <th>SAT Scores</th>\n",
       "      <th>ACT Scores</th>\n",
       "      <th>Admission Rate</th>\n",
       "      <th>Average Gross Cost</th>\n",
       "      <th>Average Net Price</th>\n",
       "      <th>Locale</th>\n",
       "    </tr>\n",
       "  </thead>\n",
       "  <tbody>\n",
       "    <tr>\n",
       "      <td>0</td>\n",
       "      <td>University of California-Merced</td>\n",
       "      <td>445188</td>\n",
       "      <td>Public</td>\n",
       "      <td>7375.0</td>\n",
       "      <td>NaN</td>\n",
       "      <td>NaN</td>\n",
       "      <td>37.366237</td>\n",
       "      <td>-120.424944</td>\n",
       "      <td>Merced</td>\n",
       "      <td>CA</td>\n",
       "      <td>1114.0</td>\n",
       "      <td>24.0</td>\n",
       "      <td>0.6979</td>\n",
       "      <td>34330.0</td>\n",
       "      <td>13223.0</td>\n",
       "      <td>41.0</td>\n",
       "    </tr>\n",
       "    <tr>\n",
       "      <td>1</td>\n",
       "      <td>University of Southern California</td>\n",
       "      <td>123961</td>\n",
       "      <td>Private</td>\n",
       "      <td>18942.0</td>\n",
       "      <td>74000.0</td>\n",
       "      <td>88800.0</td>\n",
       "      <td>34.021281</td>\n",
       "      <td>-118.284169</td>\n",
       "      <td>Los Angeles</td>\n",
       "      <td>CA</td>\n",
       "      <td>1437.0</td>\n",
       "      <td>32.0</td>\n",
       "      <td>0.1595</td>\n",
       "      <td>69547.0</td>\n",
       "      <td>30232.0</td>\n",
       "      <td>11.0</td>\n",
       "    </tr>\n",
       "    <tr>\n",
       "      <td>2</td>\n",
       "      <td>West Los Angeles College</td>\n",
       "      <td>125471</td>\n",
       "      <td>Public</td>\n",
       "      <td>9622.0</td>\n",
       "      <td>31500.0</td>\n",
       "      <td>37300.0</td>\n",
       "      <td>34.004512</td>\n",
       "      <td>-118.386664</td>\n",
       "      <td>Culver City</td>\n",
       "      <td>CA</td>\n",
       "      <td>NaN</td>\n",
       "      <td>NaN</td>\n",
       "      <td>NaN</td>\n",
       "      <td>13255.0</td>\n",
       "      <td>6823.0</td>\n",
       "      <td>21.0</td>\n",
       "    </tr>\n",
       "    <tr>\n",
       "      <td>3</td>\n",
       "      <td>Pueblo Community College</td>\n",
       "      <td>127884</td>\n",
       "      <td>Public</td>\n",
       "      <td>3641.0</td>\n",
       "      <td>27700.0</td>\n",
       "      <td>31900.0</td>\n",
       "      <td>38.262124</td>\n",
       "      <td>-104.636258</td>\n",
       "      <td>Pueblo</td>\n",
       "      <td>CO</td>\n",
       "      <td>NaN</td>\n",
       "      <td>NaN</td>\n",
       "      <td>NaN</td>\n",
       "      <td>20783.0</td>\n",
       "      <td>14860.0</td>\n",
       "      <td>12.0</td>\n",
       "    </tr>\n",
       "    <tr>\n",
       "      <td>4</td>\n",
       "      <td>University of Colorado Boulder</td>\n",
       "      <td>126614</td>\n",
       "      <td>Public</td>\n",
       "      <td>28565.0</td>\n",
       "      <td>50800.0</td>\n",
       "      <td>59700.0</td>\n",
       "      <td>40.008781</td>\n",
       "      <td>-105.270823</td>\n",
       "      <td>Boulder</td>\n",
       "      <td>CO</td>\n",
       "      <td>1293.0</td>\n",
       "      <td>28.0</td>\n",
       "      <td>0.7984</td>\n",
       "      <td>29215.0</td>\n",
       "      <td>20706.0</td>\n",
       "      <td>12.0</td>\n",
       "    </tr>\n",
       "  </tbody>\n",
       "</table>\n",
       "</div>"
      ],
      "text/plain": [
       "                         School Name  School ID School Type  School Size  \\\n",
       "0    University of California-Merced     445188      Public       7375.0   \n",
       "1  University of Southern California     123961     Private      18942.0   \n",
       "2           West Los Angeles College     125471      Public       9622.0   \n",
       "3           Pueblo Community College     127884      Public       3641.0   \n",
       "4     University of Colorado Boulder     126614      Public      28565.0   \n",
       "\n",
       "   10 Year Median Earnings  10 Year Mean Earnings        Lat         Lng  \\\n",
       "0                      NaN                    NaN  37.366237 -120.424944   \n",
       "1                  74000.0                88800.0  34.021281 -118.284169   \n",
       "2                  31500.0                37300.0  34.004512 -118.386664   \n",
       "3                  27700.0                31900.0  38.262124 -104.636258   \n",
       "4                  50800.0                59700.0  40.008781 -105.270823   \n",
       "\n",
       "          City State  SAT Scores  ACT Scores  Admission Rate  \\\n",
       "0       Merced    CA      1114.0        24.0          0.6979   \n",
       "1  Los Angeles    CA      1437.0        32.0          0.1595   \n",
       "2  Culver City    CA         NaN         NaN             NaN   \n",
       "3       Pueblo    CO         NaN         NaN             NaN   \n",
       "4      Boulder    CO      1293.0        28.0          0.7984   \n",
       "\n",
       "   Average Gross Cost  Average Net Price  Locale  \n",
       "0             34330.0            13223.0    41.0  \n",
       "1             69547.0            30232.0    11.0  \n",
       "2             13255.0             6823.0    21.0  \n",
       "3             20783.0            14860.0    12.0  \n",
       "4             29215.0            20706.0    12.0  "
      ]
     },
     "execution_count": 57,
     "metadata": {},
     "output_type": "execute_result"
    }
   ],
   "source": [
    "#import CSV\n",
    "df = pd.read_csv('correct_output.csv')\n",
    "df.head()"
   ]
  },
  {
   "cell_type": "code",
   "execution_count": 58,
   "metadata": {},
   "outputs": [
    {
     "data": {
      "text/html": [
       "<div>\n",
       "<style scoped>\n",
       "    .dataframe tbody tr th:only-of-type {\n",
       "        vertical-align: middle;\n",
       "    }\n",
       "\n",
       "    .dataframe tbody tr th {\n",
       "        vertical-align: top;\n",
       "    }\n",
       "\n",
       "    .dataframe thead th {\n",
       "        text-align: right;\n",
       "    }\n",
       "</style>\n",
       "<table border=\"1\" class=\"dataframe\">\n",
       "  <thead>\n",
       "    <tr style=\"text-align: right;\">\n",
       "      <th></th>\n",
       "      <th>School Name</th>\n",
       "      <th>Locale</th>\n",
       "      <th>10 Year Median Earnings</th>\n",
       "    </tr>\n",
       "  </thead>\n",
       "  <tbody>\n",
       "    <tr>\n",
       "      <td>1</td>\n",
       "      <td>University of Southern California</td>\n",
       "      <td>11.0</td>\n",
       "      <td>74000.0</td>\n",
       "    </tr>\n",
       "    <tr>\n",
       "      <td>2</td>\n",
       "      <td>West Los Angeles College</td>\n",
       "      <td>21.0</td>\n",
       "      <td>31500.0</td>\n",
       "    </tr>\n",
       "    <tr>\n",
       "      <td>3</td>\n",
       "      <td>Pueblo Community College</td>\n",
       "      <td>12.0</td>\n",
       "      <td>27700.0</td>\n",
       "    </tr>\n",
       "    <tr>\n",
       "      <td>4</td>\n",
       "      <td>University of Colorado Boulder</td>\n",
       "      <td>12.0</td>\n",
       "      <td>50800.0</td>\n",
       "    </tr>\n",
       "    <tr>\n",
       "      <td>5</td>\n",
       "      <td>Colorado Mountain College</td>\n",
       "      <td>33.0</td>\n",
       "      <td>32700.0</td>\n",
       "    </tr>\n",
       "  </tbody>\n",
       "</table>\n",
       "</div>"
      ],
      "text/plain": [
       "                         School Name  Locale  10 Year Median Earnings\n",
       "1  University of Southern California    11.0                  74000.0\n",
       "2           West Los Angeles College    21.0                  31500.0\n",
       "3           Pueblo Community College    12.0                  27700.0\n",
       "4     University of Colorado Boulder    12.0                  50800.0\n",
       "5          Colorado Mountain College    33.0                  32700.0"
      ]
     },
     "execution_count": 58,
     "metadata": {},
     "output_type": "execute_result"
    }
   ],
   "source": [
    "#Clean and Streamline Dataframe\n",
    "locale_df = df[['School Name','Locale','10 Year Median Earnings']]\n",
    "locale_df = locale_df.dropna()\n",
    "locale_df.head()"
   ]
  },
  {
   "cell_type": "code",
   "execution_count": 59,
   "metadata": {},
   "outputs": [],
   "source": [
    "#Seperate Data by Locale Type\n",
    "large_city_locale_df = locale_df.loc[locale_df.Locale == 11.0]\n",
    "large_suburb_locale_df = locale_df.loc[locale_df.Locale == 21.0]\n",
    "midsize_city_locale_df = locale_df.loc[locale_df.Locale == 12.0]\n",
    "midsize_suburb_locale_df = locale_df.loc[locale_df.Locale == 22.0]\n",
    "small_city_locale_df = locale_df.loc[locale_df.Locale == 13.0]\n",
    "small_suburb_locale_df = locale_df.loc[locale_df.Locale == 23.0]\n",
    "rural_locale_df = locale_df.loc[locale_df.Locale > 40]"
   ]
  },
  {
   "cell_type": "code",
   "execution_count": 60,
   "metadata": {},
   "outputs": [
    {
     "data": {
      "text/html": [
       "<div>\n",
       "<style scoped>\n",
       "    .dataframe tbody tr th:only-of-type {\n",
       "        vertical-align: middle;\n",
       "    }\n",
       "\n",
       "    .dataframe tbody tr th {\n",
       "        vertical-align: top;\n",
       "    }\n",
       "\n",
       "    .dataframe thead th {\n",
       "        text-align: right;\n",
       "    }\n",
       "</style>\n",
       "<table border=\"1\" class=\"dataframe\">\n",
       "  <thead>\n",
       "    <tr style=\"text-align: right;\">\n",
       "      <th></th>\n",
       "      <th>School Name</th>\n",
       "      <th>Locale</th>\n",
       "      <th>10 Year Median Earnings</th>\n",
       "    </tr>\n",
       "  </thead>\n",
       "  <tbody>\n",
       "    <tr>\n",
       "      <td>1</td>\n",
       "      <td>University of Southern California</td>\n",
       "      <td>11.0</td>\n",
       "      <td>74000.0</td>\n",
       "    </tr>\n",
       "    <tr>\n",
       "      <td>6</td>\n",
       "      <td>Colorado Technical University-Colorado Springs</td>\n",
       "      <td>11.0</td>\n",
       "      <td>42200.0</td>\n",
       "    </tr>\n",
       "    <tr>\n",
       "      <td>18</td>\n",
       "      <td>The University of Tampa</td>\n",
       "      <td>11.0</td>\n",
       "      <td>48600.0</td>\n",
       "    </tr>\n",
       "    <tr>\n",
       "      <td>20</td>\n",
       "      <td>University of South Florida-Main Campus</td>\n",
       "      <td>11.0</td>\n",
       "      <td>43500.0</td>\n",
       "    </tr>\n",
       "    <tr>\n",
       "      <td>21</td>\n",
       "      <td>Valencia College</td>\n",
       "      <td>11.0</td>\n",
       "      <td>32600.0</td>\n",
       "    </tr>\n",
       "  </tbody>\n",
       "</table>\n",
       "</div>"
      ],
      "text/plain": [
       "                                       School Name  Locale  \\\n",
       "1                University of Southern California    11.0   \n",
       "6   Colorado Technical University-Colorado Springs    11.0   \n",
       "18                         The University of Tampa    11.0   \n",
       "20         University of South Florida-Main Campus    11.0   \n",
       "21                                Valencia College    11.0   \n",
       "\n",
       "    10 Year Median Earnings  \n",
       "1                   74000.0  \n",
       "6                   42200.0  \n",
       "18                  48600.0  \n",
       "20                  43500.0  \n",
       "21                  32600.0  "
      ]
     },
     "execution_count": 60,
     "metadata": {},
     "output_type": "execute_result"
    }
   ],
   "source": [
    "large_city_locale_df.head()"
   ]
  },
  {
   "cell_type": "code",
   "execution_count": 61,
   "metadata": {},
   "outputs": [],
   "source": [
    "#Set Variables for Mean of each Locale Type\n",
    "large_city_earn = large_city_locale_df[\"10 Year Median Earnings\"].mean()\n",
    "large_suburb_earn = large_suburb_locale_df['10 Year Median Earnings'].mean()\n",
    "midsize_city_earn = midsize_city_locale_df[\"10 Year Median Earnings\"].mean()\n",
    "midsize_suburb_earn = midsize_suburb_locale_df[\"10 Year Median Earnings\"].mean()\n",
    "small_city_earn = small_city_locale_df[\"10 Year Median Earnings\"].mean()\n",
    "small_suburb_earn = small_suburb_locale_df[\"10 Year Median Earnings\"].mean()\n",
    "rural_earn = rural_locale_df[\"10 Year Median Earnings\"].mean()\n",
    "total_earn = locale_df[\"10 Year Median Earnings\"].mean()"
   ]
  },
  {
   "cell_type": "code",
   "execution_count": 62,
   "metadata": {},
   "outputs": [
    {
     "data": {
      "text/html": [
       "<div>\n",
       "<style scoped>\n",
       "    .dataframe tbody tr th:only-of-type {\n",
       "        vertical-align: middle;\n",
       "    }\n",
       "\n",
       "    .dataframe tbody tr th {\n",
       "        vertical-align: top;\n",
       "    }\n",
       "\n",
       "    .dataframe thead th {\n",
       "        text-align: right;\n",
       "    }\n",
       "</style>\n",
       "<table border=\"1\" class=\"dataframe\">\n",
       "  <thead>\n",
       "    <tr style=\"text-align: right;\">\n",
       "      <th></th>\n",
       "      <th>Locale</th>\n",
       "      <th>Median Earnings</th>\n",
       "    </tr>\n",
       "  </thead>\n",
       "  <tbody>\n",
       "    <tr>\n",
       "      <td>0</td>\n",
       "      <td>Large City</td>\n",
       "      <td>48498.712446</td>\n",
       "    </tr>\n",
       "    <tr>\n",
       "      <td>1</td>\n",
       "      <td>Large Suburb</td>\n",
       "      <td>47779.234973</td>\n",
       "    </tr>\n",
       "    <tr>\n",
       "      <td>2</td>\n",
       "      <td>Midsize City</td>\n",
       "      <td>45224.137931</td>\n",
       "    </tr>\n",
       "    <tr>\n",
       "      <td>3</td>\n",
       "      <td>Midsize Suburb</td>\n",
       "      <td>42671.428571</td>\n",
       "    </tr>\n",
       "    <tr>\n",
       "      <td>4</td>\n",
       "      <td>Small City</td>\n",
       "      <td>43492.814371</td>\n",
       "    </tr>\n",
       "    <tr>\n",
       "      <td>5</td>\n",
       "      <td>Small Suburb</td>\n",
       "      <td>46188.888889</td>\n",
       "    </tr>\n",
       "    <tr>\n",
       "      <td>6</td>\n",
       "      <td>Rural</td>\n",
       "      <td>36155.555556</td>\n",
       "    </tr>\n",
       "    <tr>\n",
       "      <td>7</td>\n",
       "      <td>Average</td>\n",
       "      <td>45247.750511</td>\n",
       "    </tr>\n",
       "  </tbody>\n",
       "</table>\n",
       "</div>"
      ],
      "text/plain": [
       "           Locale  Median Earnings\n",
       "0      Large City     48498.712446\n",
       "1    Large Suburb     47779.234973\n",
       "2    Midsize City     45224.137931\n",
       "3  Midsize Suburb     42671.428571\n",
       "4      Small City     43492.814371\n",
       "5    Small Suburb     46188.888889\n",
       "6           Rural     36155.555556\n",
       "7         Average     45247.750511"
      ]
     },
     "execution_count": 62,
     "metadata": {},
     "output_type": "execute_result"
    }
   ],
   "source": [
    "#Create new Dataframe with Locale Type Means\n",
    "localedata = [['Large City', large_city_earn], ['Large Suburb', large_suburb_earn], ['Midsize City', midsize_city_earn],\n",
    "             ['Midsize Suburb', midsize_suburb_earn], ['Small City', small_city_earn], ['Small Suburb', small_suburb_earn],\n",
    "             ['Rural', rural_earn], ['Average', total_earn]]\n",
    "localedata_df = pd.DataFrame(localedata, columns = ['Locale', 'Median Earnings']) \n",
    "localedata_df"
   ]
  },
  {
   "cell_type": "code",
   "execution_count": 63,
   "metadata": {},
   "outputs": [
    {
     "data": {
      "image/png": "[encoded data removed]",
      "text/plain": [
       "<Figure size 432x288 with 1 Axes>"
      ]
     },
     "metadata": {
      "needs_background": "light"
     },
     "output_type": "display_data"
    }
   ],
   "source": [
    "#Scatter Plot of Median Earnings in Most Populous Locale vs Average Locale\n",
    "fig = plt.figure()\n",
    "ax1 = fig.add_subplot(111)\n",
    "\n",
    "ax1.scatter(locale_df['School Name'], locale_df['10 Year Median Earnings'], c='b', marker=\"s\", label='first')\n",
    "ax1.scatter(large_city_locale_df['School Name'], large_city_locale_df['10 Year Median Earnings'], c='r', marker=\"o\", label='second')\n",
    "plt.legend(loc='upper left');\n",
    "plt.savefig(\"Stewart1.png\")\n",
    "plt.show()"
   ]
  },
  {
   "cell_type": "code",
   "execution_count": 64,
   "metadata": {},
   "outputs": [
    {
     "data": {
      "text/plain": [
       "Ttest_indResult(statistic=3.657835531380617, pvalue=0.0002652971253478196)"
      ]
     },
     "execution_count": 64,
     "metadata": {},
     "output_type": "execute_result"
    }
   ],
   "source": [
    "stats.ttest_ind(large_city_locale_df['10 Year Median Earnings'], locale_df['10 Year Median Earnings'], axis=0)"
   ]
  },
  {
   "cell_type": "code",
   "execution_count": 65,
   "metadata": {},
   "outputs": [
    {
     "data": {
      "text/plain": [
       "<Figure size 1440x216 with 0 Axes>"
      ]
     },
     "execution_count": 65,
     "metadata": {},
     "output_type": "execute_result"
    },
    {
     "data": {
      "image/png": "[encoded data removed]",
      "text/plain": [
       "<Figure size 1440x216 with 1 Axes>"
      ]
     },
     "metadata": {
      "needs_background": "light"
     },
     "output_type": "display_data"
    },
    {
     "data": {
      "text/plain": [
       "<Figure size 1440x216 with 0 Axes>"
      ]
     },
     "metadata": {},
     "output_type": "display_data"
    }
   ],
   "source": [
    "#Bar Chart comparing Median Earnings in Key Locale Types\n",
    "x_axis = np.arange(len(localedata_df['Locale']))\n",
    "\n",
    "plt.figure(figsize=(20, 3)) \n",
    "plt.bar(x_axis, localedata_df['Median Earnings'], color=\"b\", align=\"center\", width=0.3)\n",
    "\n",
    "tick_locations = [value for value in x_axis]\n",
    "plt.xticks(tick_locations, localedata_df['Locale'])\n",
    "plt.ylim(30000, 50000)\n",
    "\n",
    "plt.title(\"Median Earnings by College Locale\")\n",
    "plt.xlabel(\"Locale\")\n",
    "plt.ylabel(\"Median Earnings\")  \n",
    "\n",
    "plt.figure(figsize=(20, 3)) "
   ]
  },
  {
   "cell_type": "code",
   "execution_count": 66,
   "metadata": {},
   "outputs": [
    {
     "data": {
      "text/plain": [
       "<Figure size 432x288 with 0 Axes>"
      ]
     },
     "metadata": {},
     "output_type": "display_data"
    }
   ],
   "source": [
    "plt.savefig(\"Stewart2.png\")"
   ]
  }
 ],
 "metadata": {
  "kernelspec": {
   "display_name": "Python [conda env:PythonData] *",
   "language": "python",
   "name": "conda-env-PythonData-py"
  },
  "language_info": {
   "codemirror_mode": {
    "name": "ipython",
    "version": 3
   },
   "file_extension": ".py",
   "mimetype": "text/x-python",
   "name": "python",
   "nbconvert_exporter": "python",
   "pygments_lexer": "ipython3",
   "version": "3.6.9"
  }
 },
 "nbformat": 4,
 "nbformat_minor": 2
}
